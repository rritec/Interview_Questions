{
 "cells": [
  {
   "cell_type": "markdown",
   "metadata": {
    "colab_type": "text",
    "id": "PQXNfbJby1n5"
   },
   "source": [
    "- `How Many Python Versions Mainly Available?`\n",
    "\n",
    "  - 2 those are Python **2.x and 3.x**"
   ]
  },
  {
   "cell_type": "markdown",
   "metadata": {
    "colab_type": "text",
    "id": "UqwnCAeVL2Ty"
   },
   "source": []
  },
  {
   "cell_type": "markdown",
   "metadata": {
    "colab_type": "text",
    "id": "xWojXa8r1YN5"
   },
   "source": [
    "- `How many keywords available in python? and what are those?`"
   ]
  },
  {
   "cell_type": "code",
   "execution_count": 0,
   "metadata": {
    "colab": {},
    "colab_type": "code",
    "id": "waL-h5A_1YN8"
   },
   "outputs": [],
   "source": [
    "import keyword"
   ]
  },
  {
   "cell_type": "code",
   "execution_count": 0,
   "metadata": {
    "colab": {},
    "colab_type": "code",
    "id": "ZKOAbBO11YOH",
    "outputId": "8ca7998a-8c95-4c12-9513-2f0bb8e45d9a"
   },
   "outputs": [
    {
     "name": "stdout",
     "output_type": "stream",
     "text": [
      "['False', 'None', 'True', 'and', 'as', 'assert', 'break', 'class', 'continue', 'def', 'del', 'elif', 'else', 'except', 'finally', 'for', 'from', 'global', 'if', 'import', 'in', 'is', 'lambda', 'nonlocal', 'not', 'or', 'pass', 'raise', 'return', 'try', 'while', 'with', 'yield']\n"
     ]
    }
   ],
   "source": [
    "print(keyword.kwlist)"
   ]
  },
  {
   "cell_type": "code",
   "execution_count": 0,
   "metadata": {
    "colab": {},
    "colab_type": "code",
    "id": "KDUR32MF1YOT",
    "outputId": "99ccf491-7f25-41fd-9ee7-5c535ddd63cd"
   },
   "outputs": [
    {
     "data": {
      "text/plain": [
       "33"
      ]
     },
     "execution_count": 4,
     "metadata": {
      "tags": []
     },
     "output_type": "execute_result"
    }
   ],
   "source": [
    "len(keyword.kwlist)"
   ]
  },
  {
   "cell_type": "markdown",
   "metadata": {
    "colab_type": "text",
    "id": "a6xpr4SR1YOd"
   },
   "source": [
    "- `How to know memory id of object?`"
   ]
  },
  {
   "cell_type": "code",
   "execution_count": 0,
   "metadata": {
    "colab": {},
    "colab_type": "code",
    "id": "QGdevf5q1YOg"
   },
   "outputs": [],
   "source": [
    "a =10"
   ]
  },
  {
   "cell_type": "code",
   "execution_count": 0,
   "metadata": {
    "colab": {},
    "colab_type": "code",
    "id": "HKogyzOd1YOl",
    "outputId": "50ee775d-51b0-4f9c-a489-4b5777704f49"
   },
   "outputs": [
    {
     "data": {
      "text/plain": [
       "1351201280"
      ]
     },
     "execution_count": 6,
     "metadata": {
      "tags": []
     },
     "output_type": "execute_result"
    }
   ],
   "source": [
    "id(a)"
   ]
  },
  {
   "cell_type": "markdown",
   "metadata": {
    "colab_type": "text",
    "id": "WJWNJybs1YOq"
   },
   "source": [
    "- `How to Define Multi Line String?`\n",
    "    - By using three times double qutos \"\"\"\"\"\" or three times single qutos''''''"
   ]
  },
  {
   "cell_type": "code",
   "execution_count": 0,
   "metadata": {
    "colab": {},
    "colab_type": "code",
    "id": "eT5LYByQ1YOr"
   },
   "outputs": [],
   "source": [
    "Mentor = \"\"\"Myla Ram Reddy is a good mentor in AI \n",
    "and he will be friendly \n",
    "Lot of materials developed and those are straigt forward any one can understand it \"\"\""
   ]
  },
  {
   "cell_type": "code",
   "execution_count": 0,
   "metadata": {
    "colab": {},
    "colab_type": "code",
    "id": "pIGSjneV1YOw",
    "outputId": "18945c68-10e6-4cb7-fd8e-33e621d39b9c"
   },
   "outputs": [
    {
     "data": {
      "text/plain": [
       "str"
      ]
     },
     "execution_count": 8,
     "metadata": {
      "tags": []
     },
     "output_type": "execute_result"
    }
   ],
   "source": [
    "type(Mentor)"
   ]
  },
  {
   "cell_type": "code",
   "execution_count": 0,
   "metadata": {
    "colab": {},
    "colab_type": "code",
    "id": "iZD6GMN7eNzR"
   },
   "outputs": [],
   "source": [
    "How many ways we can define a function.. ?\n",
    "We can define a function by four ways they are-\n",
    "    1. function without parameter & without Return\n",
    "    2. function without parameter & with Return\n",
    "    3. funtion with parameter & with return\n",
    "    4. function with parameter & with return"
   ]
  },
  {
   "cell_type": "markdown",
   "metadata": {
    "colab_type": "text",
    "id": "hRZb9wtUWGRW"
   },
   "source": [
    "`write a for loop for to print prime numbers,upto given number`"
   ]
  },
  {
   "cell_type": "code",
   "execution_count": 0,
   "metadata": {
    "colab": {},
    "colab_type": "code",
    "id": "9hi1voO6WTUW"
   },
   "outputs": [],
   "source": []
  },
  {
   "cell_type": "markdown",
   "metadata": {
    "colab_type": "text",
    "id": "F00oPwRwf6qG"
   },
   "source": [
    " Q---what is the strftime() Method in python?\n",
    " \n",
    " \n",
    "Ans--The strftime() Method\n",
    "The datetime object has a method for formatting date objects into readable strings.\n",
    "\n",
    "The method is called strftime(), and takes one parameter, format, to specify the format of the returned string:\n",
    "\n",
    "\n",
    "\n",
    "\n",
    "Example:\n",
    "\n",
    "\n",
    " import datetime\n",
    " \n",
    " \n",
    " x=datetime.datetime(2019,9,24)\n",
    " \n",
    " \n",
    " print(x.strftime(\"%B\"))\n",
    " \n",
    " \n",
    " \n",
    " its displays Month name, full version\n",
    " \n",
    " \n",
    " september "
   ]
  },
  {
   "cell_type": "code",
   "execution_count": 0,
   "metadata": {
    "colab": {},
    "colab_type": "code",
    "id": "2IJ7MJ9BqtqV"
   },
   "outputs": [],
   "source": [
    "Q...What Is Slicing In Python? Explain With Example.\n",
    "\n",
    "Ans..Slicing in Python is a mechanism to select a range of items from Sequence types like strings, list, tuple, etc.\n",
    "\n",
    ">>> l=[1,2,3,4,5]\n",
    ">>> l[1:3]\n",
    "[2, 3]\n",
    ">>> l[1:-2]\n",
    "[2, 3]\n",
    ">>> l[-3:-1]      # negative indexes in slicing\n",
    "[3, 4]\n",
    "\n",
    ">>> s=\"Hello World\"\n",
    ">>> s[1:3]\n",
    "'el'\n",
    ">>> s[:-5]\n",
    "'Hello '\n",
    ">>> s[-5:]\n",
    "'World'"
   ]
  },
  {
   "cell_type": "markdown",
   "metadata": {
    "colab_type": "text",
    "id": "_ICWCkHhrcPC"
   },
   "source": [
    "Q--- Why Is The “Pass” Keyword Used For In Python?\n",
    "\n",
    "\n",
    "An---The “pass” keyword is a no-operation statement in Python. It signals that no action is required. It works as a placeholder in compound statements which are intentionally left blank.\n",
    "\n",
    ">>> if x==0:\n",
    "        pass\n",
    "    else:\n",
    "        print \"x!=0\"\n",
    " "
   ]
  },
  {
   "cell_type": "markdown",
   "metadata": {
    "colab_type": "text",
    "id": "jUxiGm84QEA0"
   },
   "source": [
    " Q---What is the output of the following?\n",
    "\n",
    "Ans---print(' {  : , } ' . format(1112223334))\n",
    "\n",
    "a) 1,112,223,334\n",
    "\n",
    "b) 111,222,333,4\n",
    "\n",
    "c) 1112223334\n",
    "\n",
    "d) Error\n",
    "\n",
    "\n",
    "\n",
    "Answer: a\n",
    "\n",
    "Explanation: A comma is added after every third digit from the right."
   ]
  },
  {
   "cell_type": "markdown",
   "metadata": {
    "colab_type": "text",
    "id": "TuWedOUDSBtf"
   },
   "source": [
    "Q---     The assignment of more than one function to a particular operator is _______\n",
    "\n",
    "\n",
    "\n",
    "a) Operator over-assignment\n",
    "\n",
    "b) Operator overriding\n",
    "\n",
    "\n",
    "c) Operator overloading\n",
    "\n",
    "d) Operator instance\n",
    "\n",
    "\n",
    "\n",
    "Answer: c \n",
    "\n",
    "\n",
    "The assignment of more than one function to a particular operator is called as operator overloading."
   ]
  },
  {
   "cell_type": "markdown",
   "metadata": {
    "colab_type": "text",
    "id": "FI3l12X_MAL_"
   },
   "source": [
    "Q---Explain the use of with statement and its syntax.\n",
    "\n",
    "\n",
    "\n",
    "\n",
    "Ans--   In Python, using the ‘with’ statement, we can open a file and close it as soon as the block of code, where ‘with’ is used, exits, without having to use the close() method.\n",
    "\n",
    "with open(\"filename\", \"mode\") as file_var:"
   ]
  },
  {
   "cell_type": "markdown",
   "metadata": {
    "colab_type": "text",
    "id": "La7AONL4NUKS"
   },
   "source": [
    "Q--Differentiate between NumPy       and    SciPy.\n",
    "\n",
    "\n",
    "Ans--\n",
    "\n",
    "*Numpy:*\n",
    "\n",
    "NumPy stands for Numerical Python.\n",
    "\n",
    "\n",
    "\n",
    "\n",
    "\n",
    "\n",
    "\n",
    "\n",
    "\n",
    "It is used for efficient and general numeric computations on numerical data saved in arrays. For example, sorting, indexing, reshaping, and more.\n",
    "\n",
    "\n",
    "Except for the general computing, there are some linear algebraic functions available in this module, but they are not fully fledged.\n",
    "\n",
    "\n",
    "\n",
    "---\n",
    "\n",
    "\n",
    "**Scipy**\n",
    "\n",
    "SciPy stands for Scientific Python.\n",
    "\n",
    "This module is a collection of tools in Python to perform operations such as integration, differentiation, and more.\n",
    "\n",
    "\n",
    "Fully fledged algebraic functions are available in SciPy for algebraic computations.\n",
    "\n"
   ]
  },
  {
   "cell_type": "code",
   "execution_count": 0,
   "metadata": {
    "colab": {},
    "colab_type": "code",
    "id": "qPYGCRQgV95t"
   },
   "outputs": [],
   "source": [
    "Q-- How to differentiate pickling and unpickling in python?\n",
    "\n",
    "\n",
    "Pickle module accepts any Python object and converts it into a string representation and dumps it into a file by using dump function, this process is called pickling. While the process of retrieving original Python objects from the stored string representation is called unpickling."
   ]
  },
  {
   "cell_type": "code",
   "execution_count": 0,
   "metadata": {
    "colab": {},
    "colab_type": "code",
    "id": "B5Ejx8v-V95v"
   },
   "outputs": [],
   "source": [
    "Q-- Why local variable names declared or beginned with an underscore are discouraged? Why ?"
   ]
  },
  {
   "cell_type": "markdown",
   "metadata": {
    "colab_type": "text",
    "id": "MK-sp6DLanji"
   },
   "source": [
    "- Program to print all distinct elements in an array.?\n",
    "\n",
    "  - Distinct elements are nothing but the unique (non-duplicate) elements present in the given array. "
   ]
  },
  {
   "cell_type": "code",
   "execution_count": 0,
   "metadata": {
    "colab": {},
    "colab_type": "code",
    "id": "ZC-NYGOZaqFv"
   },
   "outputs": [],
   "source": [
    "def distinct_array(arr, num):\n",
    "    a = []\n",
    "    for i in arr:\n",
    "        if i not in a:\n",
    "            a.append(i)\n",
    "    return a\n",
    "num = int(input(\"Enter how many elements do you want in an array->\"))\n",
    "ar1 = []\n",
    "for i in range(num):\n",
    "    ar1.append(int(input(\"Enter The Element->\")))\n",
    "print(\"The Given Array is {}\".format(ar1))\n",
    "print(distinct_array(ar1, num))"
   ]
  },
  {
   "cell_type": "code",
   "execution_count": 0,
   "metadata": {
    "colab": {
     "base_uri": "https://localhost:8080/",
     "height": 35
    },
    "colab_type": "code",
    "executionInfo": {
     "elapsed": 1093,
     "status": "ok",
     "timestamp": 1570195013692,
     "user": {
      "displayName": "Rishikesh Memane",
      "photoUrl": "",
      "userId": "03109168746240800111"
     },
     "user_tz": -330
    },
    "id": "9RuMbNgB5o9D",
    "outputId": "b54fb0cc-6e5d-492c-e3f6-0ec1f236efdd"
   },
   "outputs": [
    {
     "name": "stdout",
     "output_type": "stream",
     "text": [
      "Object `Python` not found.\n"
     ]
    }
   ],
   "source": [
    "- How to convert 2 dimensional array to one dimensional array in Python?"
   ]
  },
  {
   "cell_type": "markdown",
   "metadata": {
    "colab_type": "text",
    "id": "iDrbNxptKwR_"
   },
   "source": []
  },
  {
   "cell_type": "markdown",
   "metadata": {
    "colab_type": "text",
    "id": "BO2SlXyfyct2"
   },
   "source": []
  },
  {
   "cell_type": "code",
   "execution_count": 0,
   "metadata": {
    "colab": {},
    "colab_type": "code",
    "id": "FjQj-Kjr6jb9"
   },
   "outputs": [],
   "source": [
    "import numpy as np\n",
    "a = np.array([[1,2,3], [4,5,6]])\n",
    "b = a.ravel()\n",
    "b.shape\n",
    "b.ndim"
   ]
  },
  {
   "cell_type": "code",
   "execution_count": 0,
   "metadata": {
    "colab": {},
    "colab_type": "code",
    "id": "Mhie4_l36iWS"
   },
   "outputs": [],
   "source": []
  },
  {
   "cell_type": "code",
   "execution_count": 0,
   "metadata": {
    "colab": {
     "base_uri": "https://localhost:8080/",
     "height": 35
    },
    "colab_type": "code",
    "executionInfo": {
     "elapsed": 2450,
     "status": "ok",
     "timestamp": 1575433775441,
     "user": {
      "displayName": "Ram Reddy",
      "photoUrl": "https://lh3.googleusercontent.com/a-/AAuE7mA34vyJicUC8cNJdprQy8Mthw2GtbFhrrLEHDDVGg=s64",
      "userId": "14166999692284653328"
     },
     "user_tz": -330
    },
    "id": "ZgwMiI6u6gjJ",
    "outputId": "922ce203-d5f4-417b-8df5-48c4d2d4ffdb"
   },
   "outputs": [
    {
     "name": "stdout",
     "output_type": "stream",
     "text": [
      "hello world\n"
     ]
    }
   ],
   "source": [
    "print(\"hello world\")"
   ]
  },
  {
   "cell_type": "code",
   "execution_count": 0,
   "metadata": {
    "colab": {},
    "colab_type": "code",
    "id": "UVmvc9PIKvLW"
   },
   "outputs": [],
   "source": [
    "pri"
   ]
  }
 ],
 "metadata": {
  "colab": {
   "collapsed_sections": [],
   "name": "Python interview questions.ipynb",
   "provenance": []
  },
  "kernelspec": {
   "display_name": "Python 3",
   "language": "python",
   "name": "python3"
  },
  "language_info": {
   "codemirror_mode": {
    "name": "ipython",
    "version": 3
   },
   "file_extension": ".py",
   "mimetype": "text/x-python",
   "name": "python",
   "nbconvert_exporter": "python",
   "pygments_lexer": "ipython3",
   "version": "3.7.3"
  }
 },
 "nbformat": 4,
 "nbformat_minor": 1
}
